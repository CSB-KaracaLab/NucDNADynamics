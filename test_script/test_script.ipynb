{
 "cells": [
  {
   "cell_type": "markdown",
   "metadata": {},
   "source": [
    "# Extracting Base Pair Parameters from 3DNA output files\n",
    "        "
   ]
  },
  {
   "cell_type": "code",
   "execution_count": null,
   "metadata": {},
   "outputs": [],
   "source": [
    "import pandas as pd\n",
    "import shutil\n",
    "import os\n",
    "import random\n",
    "import matplotlib.pyplot as plt\n",
    "import csv\n",
    "\n",
    "#list output files\n",
    "\n",
    "outfiles=os.listdir(\"your_output_files_directory/\")\n",
    "os.chdir(\"your_output_files_directory/\")\n",
    "\n",
    "for a in range(0,len(outfiles)):\n",
    "\n",
    "    with open (outfiles[a], \"r\") as x3dna:\n",
    "        parameters=x3dna.readlines()\n",
    "\n",
    "    top=parameters.index(\"Local base-pair step parameters\\n\") + 2\n",
    "    bottom=parameters.index(\"Local base-pair helical parameters\\n\") - 4\n",
    "\n",
    "    with open (outfiles[a] +\".csv\", \"a\") as result:\n",
    "        for i in range(top,bottom):\n",
    "            for j in range(0,len(parameters[i].split()) - 1):\n",
    "                result.write(parameters[i].split()[j]+\";\")\n",
    "            result.write(parameters[i].split()[j+1])\n",
    "            result.write(\"\\n\")     \n"
   ]
  },
  {
   "cell_type": "markdown",
   "metadata": {},
   "source": [
    "# Extracting minor and major groove widths from 3DNA output files"
   ]
  },
  {
   "cell_type": "code",
   "execution_count": null,
   "metadata": {},
   "outputs": [],
   "source": [
    "import pandas as pd\n",
    "import shutil\n",
    "import os\n",
    "import random\n",
    "import matplotlib.pyplot as plt\n",
    "import csv\n",
    "\n",
    "outfiles=os.listdir(\"your_output_files_directory/\")\n",
    "os.chdir(\"your_output_files_directory/\")\n",
    "\n",
    "for a in range(0,len(outfiles)):\n",
    "\n",
    "    with open (outfiles[a], \"r\") as x3dna:\n",
    "        parameters=x3dna.readlines()\n",
    "\n",
    "    top=parameters.index(\"                  Minor Groove        Major Groove\\n\") + 2\n",
    "    bottom=parameters.index(\"Main chain and chi torsion angles: \\n\") - 4\n",
    "\n",
    "    with open (outfiles[a] +\".csv\", \"a\") as result:\n",
    "        for i in range(top,bottom):\n",
    "            result.write(parameters[i].split()[0]+\";\"+parameters[i].split()[2]+\";\")\n",
    "            result.write(parameters[i].split()[4])\n",
    "            result.write(\"\\n\")     \n"
   ]
  },
  {
   "cell_type": "markdown",
   "metadata": {},
   "source": [
    "# Combining all extracted files into a single file"
   ]
  },
  {
   "cell_type": "code",
   "execution_count": null,
   "metadata": {},
   "outputs": [],
   "source": [
    "import pandas as pd\n",
    "import shutil\n",
    "import os\n",
    "import random\n",
    "import matplotlib.pyplot as plt\n",
    "import csv\n",
    "\n",
    "parsedfiles=os.listdir(\"your_input_files_directory/\")\n",
    "os.chdir(\"your_input_files_directory/\")\n",
    "\n",
    "for b in range(0,len(parsedfiles)):\n",
    "\n",
    "    with open (parsedfiles[b], \"r\") as results:\n",
    "        all_parameters=results.readlines()\n",
    "        \n",
    "        for line in all_parameters:\n",
    "            if not '---' in line:\n",
    "                with open (\"all_results.csv\", \"a\") as final:\n",
    "                    final.write(line)"
   ]
  },
  {
   "cell_type": "markdown",
   "metadata": {},
   "source": [
    "# Finding maximum, minimum and mean values of base pair parameters dataset"
   ]
  },
  {
   "cell_type": "code",
   "execution_count": null,
   "metadata": {},
   "outputs": [],
   "source": [
    "import pandas as pd\n",
    "import shutil\n",
    "import os\n",
    "import random\n",
    "import csv\n",
    "from statistics import mean\n",
    "\n",
    "\n",
    "with open (\"max_min.csv\", \"a\") as header:\n",
    "    header.write('index;step;shift_max;shift_min;shift_mean;slide_max;slide_min;slide_mean;rise_max;rise_min;rise_mean;tilt_max;tilt_min;tilt_mean;roll_max;roll_min;roll_mean;twist_max;twist_min;twist_mean\\n')\n",
    "with open (\"all_results.csv\", \"r\") as basepair:\n",
    "    parameters=basepair.readlines()\n",
    "for i in range(1,145):\n",
    "    shift=[]\n",
    "    slide=[]\n",
    "    rise=[]\n",
    "    tilt=[]\n",
    "    roll=[]\n",
    "    twist=[]\n",
    "    \n",
    "    \n",
    "    for j in range(1,len(parameters)):\n",
    "        if parameters[j].split(';')[0] == str(i):\n",
    "            step = parameters[i].split(';')[1]\n",
    "            shift.append(float(parameters[j].split(';')[2]))\n",
    "            slide.append(float(parameters[j].split(';')[3]))\n",
    "            rise.append(float(parameters[j].split(';')[4]))\n",
    "            tilt.append(float(parameters[j].split(';')[5]))\n",
    "            roll.append(float(parameters[j].split(';')[6]))\n",
    "            twist.append(float(parameters[j].split(';')[7]))\n",
    "   \n",
    "    with open (\"max_min.csv\", \"a\") as max_min:\n",
    "        max_min.write(str(i) + ';' + step + ';' + str(max(shift)) + ';' + str(min(shift)) + ';' + str(mean(shift)) + ';')\n",
    "        max_min.write(str(max(slide)) + ';' + str(min(slide)) + ';' + str(mean(slide)) + ';')\n",
    "        max_min.write(str(max(rise)) + ';' + str(min(rise)) + ';' + str(mean(rise)) + ';')\n",
    "        max_min.write(str(max(tilt)) + ';' + str(min(tilt)) + ';' + str(mean(tilt)) + ';')\n",
    "        max_min.write(str(max(roll)) + ';' + str(min(roll)) + ';' + str(mean(roll)) + ';')\n",
    "        max_min.write(str(max(twist)) + ';' + str(min(twist)) + ';' + str(mean(twist)) + '\\n')\n",
    "               "
   ]
  },
  {
   "cell_type": "markdown",
   "metadata": {},
   "source": [
    "# Finding maximum, minimum and mean values of groove widhts dataset"
   ]
  },
  {
   "cell_type": "code",
   "execution_count": null,
   "metadata": {},
   "outputs": [],
   "source": [
    "import pandas as pd\n",
    "import shutil\n",
    "import os\n",
    "import random\n",
    "import csv\n",
    "from statistics import mean\n",
    "\n",
    "with open (\"groove_widhts_max_min.csv\", \"a\") as header:\n",
    "    header.write('index;minor_max;minor_min;minor_mean;major_max;major_min;major_mean\\n')\n",
    "\n",
    "    with open (\"groove_widths.csv\", \"r\") as groove:\n",
    "    parameters=groove.readlines()\n",
    "for i in range(3,143):\n",
    "    minor=[]\n",
    "    major=[]\n",
    "\n",
    "    for j in range(0,len(parameters)):\n",
    "        if parameters[j].split(';')[0] == str(i):\n",
    "            minor.append(float(parameters[j].split(';')[1]))\n",
    "            major.append(float(parameters[j].split(';')[2]))\n",
    "            \n",
    "    with open (\"groove_widhts_max_min.csv\", \"a\") as max_min:\n",
    "        max_min.write(str(i) + ';' + str(max(minor)) + ';' + str(min(minor)) + ';' + str(mean(minor)) + ';')\n",
    "        max_min.write(str(max(major)) + ';' + str(min(major)) + ';' + str(mean(major)) + '\\n')\n"
   ]
  }
 ],
 "metadata": {
  "kernelspec": {
   "display_name": "Python 3",
   "language": "python",
   "name": "python3"
  },
  "language_info": {
   "codemirror_mode": {
    "name": "ipython",
    "version": 3
   },
   "file_extension": ".py",
   "mimetype": "text/x-python",
   "name": "python",
   "nbconvert_exporter": "python",
   "pygments_lexer": "ipython3",
   "version": "3.6.4"
  }
 },
 "nbformat": 4,
 "nbformat_minor": 2
}
