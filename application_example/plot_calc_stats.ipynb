{
 "cells": [
  {
   "cell_type": "markdown",
   "metadata": {},
   "source": [
    "# Plot mean value and variance of base pair parameters\n"
   ]
  },
  {
   "cell_type": "code",
   "execution_count": null,
   "metadata": {},
   "outputs": [],
   "source": [
    "# Plots the calculated max and min base pair step values and the Xtal base pair step values\n",
    "# Please change YOUR_DIR to your local path!\n",
    "\n",
    "import seaborn as sns\n",
    "from matplotlib import pyplot as plt\n",
    "import pandas as pd\n",
    "import shutil\n",
    "import os\n",
    "import random\n",
    "import numpy as np\n",
    "import matplotlib.pyplot as plt\n",
    "import csv\n",
    "\n",
    "a=pd.read_csv(r\"YOUR_DIR/NucDNADynamics/application_example/3dna_out/bps_max_min.csv\", sep=\";\")\n",
    "b=pd.read_csv(r\"YOUR_DIR/NucDNADynamics/application_example/xtal/3lz0.out_bps.csv\", sep=\";\") #xtal structure's base pair parameters\n",
    "\n",
    "c=pd.DataFrame(a)\n",
    "#Please replace all \"slide\" to rise, etc., depending on what you want to plot\n",
    "max_c=c['slide_max']\n",
    "min_c=c['slide_min']\n",
    "index_c=c['index']\n",
    "\n",
    "plt.figure(figsize=(5,3))\n",
    "\n",
    "sns.lineplot(x=\"index\", y=\"slide_max\", linewidth=1, color='#ffd59a', data=a) #max\n",
    "sns.lineplot(x=\"index\", y=\"slide_min\", linewidth=1, color='#ffd59a', data=a) #min\n",
    "sns.lineplot(x=\"index\", y=\"slide_mean\", label='Average Slide', linewidth=2.5,color='#ffa900', data=a) #mean\n",
    "sns.lineplot(x=\"index\", y=\"slide\", label='Xtal Slide', linewidth=1.2,color='#cd5c5c', data=b) #xtal\n",
    "plt.fill_between(index_c,max_c,min_c, color='#ffbe7bff',alpha='0.3')\n",
    "\n",
    "plt.xticks(fontsize=10, fontweight='bold')\n",
    "plt.yticks(fontsize=10, fontweight='bold')\n",
    "plt.xlim(xmax = 146, xmin = -1)\n",
    "plt.xlabel('Residue Index', fontsize=12, fontweight='bold')\n",
    "plt.ylabel('Slide', fontsize=12, fontweight='bold')\n",
    "plt.legend(fontsize=8, loc='lower center')\n",
    "plt.title(\"Slide\",fontsize=30, fontweight='bold')\n",
    "\n",
    "plt.savefig(\"slide.png\", dpi=600, bbox_inches = \"tight\",format=\"png\")\n",
    "plt.savefig(\"slide.pdf\", dpi=600, bbox_inches = \"tight\",format=\"pdf\")\n"
   ]
  },
  {
   "cell_type": "markdown",
   "metadata": {},
   "source": [
    "# Plot mean value and variance of groove widths\n"
   ]
  },
  {
   "cell_type": "code",
   "execution_count": null,
   "metadata": {},
   "outputs": [],
   "source": [
    "# Plots the calculated max and min groove widths and the Xtal groove width values\n",
    "# Please change YOUR_DIR to your local path!\n",
    "\n",
    "import seaborn as sns\n",
    "from matplotlib import pyplot as plt\n",
    "import pandas as pd\n",
    "import shutil\n",
    "import os\n",
    "import random\n",
    "import numpy as np\n",
    "import matplotlib.pyplot as plt\n",
    "import csv\n",
    "\n",
    "a=pd.read_csv(r\"YOUR_DIR/NucDNADynamics/application_example/3dna_out/gw_max_min.csv\", sep=\";\")\n",
    "b=pd.read_csv(r\"YOUR_DIR/NucDNADynamics/application_example/xtal/3lz0.out_groove_width.csv\", sep=\";\") #xtal structure's base pair parameters\n",
    "c=pd.DataFrame(a)\n",
    "#Write the parameter you want to plot\n",
    "max_c=c['minor_max']\n",
    "min_c=c['minor_min']\n",
    "index_c=c['index']\n",
    "minor_max_c=c['minor_max']\n",
    "\n",
    "plt.figure(figsize=(5,3))\n",
    "\n",
    "sns.lineplot(x=\"index\", y=\"minor_max\", linewidth=1, color='#ffd59a', data=a) #max\n",
    "sns.lineplot(x=\"index\", y=\"minor_min\", linewidth=1, color='#ffd59a', data=a) #min\n",
    "sns.lineplot(x=\"index\", y=\"minor_mean\", label='Average Minor Groove', linewidth=2.5,color='#ffa900', data=a) #mean\n",
    "sns.lineplot(x=\"index\", y=\"minor\", label='Xtal Str.', linewidth=1.2,color='#cd5c5c', data=b) #xtal\n",
    "plt.fill_between(index_c,max_c,min_c, color='#ffbe7bff',alpha='0.3')\n",
    "\n",
    "plt.xticks(fontsize=10, fontweight='bold')\n",
    "plt.yticks(fontsize=10, fontweight='bold')\n",
    "plt.xlim(xmax = 146, xmin = -1)\n",
    "plt.xlabel('Residue Index', fontsize=12, fontweight='bold')\n",
    "plt.ylabel('Minor Groove Width', fontsize=12, fontweight='bold')\n",
    "plt.legend(fontsize=8, loc='lower center')\n",
    "plt.title(\"Minor Grooove\",fontsize=15, fontweight='bold')\n",
    "\n",
    "plt.savefig(\"minor_groove.png\", dpi=600, bbox_inches = \"tight\",format=\"png\")\n",
    "plt.savefig(\"minor_groove.pdf\", dpi=600, bbox_inches = \"tight\",format=\"pdf\")\n"
   ]
  }
 ],
 "metadata": {
  "kernelspec": {
   "display_name": "Python 3",
   "language": "python",
   "name": "python3"
  },
  "language_info": {
   "codemirror_mode": {
    "name": "ipython",
    "version": 3
   },
   "file_extension": ".py",
   "mimetype": "text/x-python",
   "name": "python",
   "nbconvert_exporter": "python",
   "pygments_lexer": "ipython3",
   "version": "3.8.3"
  }
 },
 "nbformat": 4,
 "nbformat_minor": 4
}
