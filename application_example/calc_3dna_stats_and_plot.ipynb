{
 "cells": [
  {
   "cell_type": "markdown",
   "metadata": {},
   "source": [
    "# Extracting Base Pair Step Parameters from 3DNA .out file\n",
    "        "
   ]
  },
  {
   "cell_type": "code",
   "execution_count": 53,
   "metadata": {},
   "outputs": [],
   "source": [
    "import pandas as pd\n",
    "import shutil\n",
    "import os\n",
    "import random\n",
    "import matplotlib.pyplot as plt\n",
    "import csv\n",
    "\n",
    "# Place all your 3dna.out files in a directory and provide below the full path of it\n",
    "outfiles=os.listdir(\"/Users/ezgi/Software/NucDNADynamics/application_example/3dna_out\")\n",
    "os.chdir(\"/Users/ezgi/Software/NucDNADynamics/application_example/3dna_out\")\n",
    "\n",
    "for a in range(0,len(outfiles)):    \n",
    "    if outfiles[a][-4:] == \".out\":\n",
    "\n",
    "        with open (outfiles[a], \"r\") as x3dna:\n",
    "            parameters=x3dna.readlines()\n",
    "\n",
    "        top=parameters.index(\"Local base-pair step parameters\\n\") + 2\n",
    "        bottom=parameters.index(\"Local base-pair helical parameters\\n\") - 4\n",
    "\n",
    "        with open (outfiles[a] +\"_bps.csv\", \"a\") as result:\n",
    "            for i in range(top,bottom):\n",
    "                \n",
    "                for j in range(0,len(parameters[i].split()) - 1):\n",
    "                    result.write(parameters[i].split()[j]+\";\")\n",
    "                \n",
    "                result.write(parameters[i].split()[j+1])\n",
    "                result.write(\"\\n\")     \n"
   ]
  },
  {
   "cell_type": "markdown",
   "metadata": {},
   "source": [
    "# Extracting minor and major groove widths from 3DNA .out file"
   ]
  },
  {
   "cell_type": "code",
   "execution_count": 55,
   "metadata": {},
   "outputs": [],
   "source": [
    "import pandas as pd\n",
    "import shutil\n",
    "import os\n",
    "import random\n",
    "import matplotlib.pyplot as plt\n",
    "import csv\n",
    "\n",
    "outfiles=os.listdir(\"/Users/ezgi/Software/NucDNADynamics/application_example/3dna_out\")\n",
    "os.chdir(\"/Users/ezgi/Software/NucDNADynamics/application_example/3dna_out\")\n",
    "\n",
    "for a in range(0,len(outfiles)):\n",
    "    if outfiles[a][-4:] == \".out\":\n",
    "        with open (outfiles[a], \"r\") as x3dna:\n",
    "            parameters=x3dna.readlines()\n",
    "\n",
    "        top=parameters.index(\"                  Minor Groove        Major Groove\\n\") + 2\n",
    "        bottom=parameters.index(\"Main chain and chi torsion angles: \\n\") - 4\n",
    "\n",
    "        with open (outfiles[a] +\"_groove_width.csv\", \"a\") as result:\n",
    "            for i in range(top,bottom):\n",
    "                result.write(parameters[i].split()[0]+\";\"+parameters[i].split()[2]+\";\")\n",
    "                result.write(parameters[i].split()[4])\n",
    "                result.write(\"\\n\")     \n"
   ]
  },
  {
   "cell_type": "markdown",
   "metadata": {},
   "source": [
    "# Merge the processed base pair step parameters"
   ]
  },
  {
   "cell_type": "code",
   "execution_count": 61,
   "metadata": {},
   "outputs": [],
   "source": [
    "import pandas as pd\n",
    "import shutil\n",
    "import os\n",
    "import random\n",
    "import matplotlib.pyplot as plt\n",
    "import csv\n",
    "\n",
    "parsedfiles=os.listdir(\"/Users/ezgi/Software/NucDNADynamics/application_example/3dna_out\")\n",
    "os.chdir(\"/Users/ezgi/Software/NucDNADynamics/application_example/3dna_out\")\n",
    "\n",
    "for b in range(0,len(parsedfiles)):\n",
    "    if parsedfiles[b][-8:] == \"_bps.csv\":\n",
    "        with open (parsedfiles[b], \"r\") as results:\n",
    "            all_parameters=results.readlines()\n",
    "\n",
    "            for line in all_parameters:\n",
    "                if not '---' in line:\n",
    "                    with open (\"bps_merged.csv\", \"a\") as final:\n",
    "                        final.write(line)"
   ]
  },
  {
   "cell_type": "markdown",
   "metadata": {},
   "source": [
    "# Merge the processed groove widths"
   ]
  },
  {
   "cell_type": "code",
   "execution_count": null,
   "metadata": {},
   "outputs": [],
   "source": [
    "import pandas as pd\n",
    "import shutil\n",
    "import os\n",
    "import random\n",
    "import matplotlib.pyplot as plt\n",
    "import csv\n",
    "\n",
    "parsedfiles=os.listdir(\"/Users/ezgi/Software/NucDNADynamics/application_example/3dna_out\")\n",
    "os.chdir(\"/Users/ezgi/Software/NucDNADynamics/application_example/3dna_out\")\n",
    "\n",
    "for c in range(0,len(parsedfiles)):\n",
    "    if parsedfiles[c][-10:] == \"_width.csv\":\n",
    "        with open (parsedfiles[c], \"r\") as results:\n",
    "            all_parameters=results.readlines()\n",
    "\n",
    "            for line in all_parameters:\n",
    "                if not '---' in line:\n",
    "                    with open (\"gw_merged.csv\", \"a\") as final:\n",
    "                        final.write(line)"
   ]
  },
  {
   "cell_type": "markdown",
   "metadata": {},
   "source": [
    "# Find maximum, minimum and mean values of the merged base pair step parameters"
   ]
  },
  {
   "cell_type": "code",
   "execution_count": 62,
   "metadata": {},
   "outputs": [],
   "source": [
    "import pandas as pd\n",
    "import shutil\n",
    "import os\n",
    "import random\n",
    "import csv\n",
    "from statistics import mean\n",
    "\n",
    "with open (\"bps_max_min.csv\", \"a\") as header:\n",
    "    header.write('index;step;shift_max;shift_min;shift_mean;slide_max;slide_min;slide_mean;rise_max;rise_min;rise_mean;tilt_max;tilt_min;tilt_mean;roll_max;roll_min;roll_mean;twist_max;twist_min;twist_mean\\n')\n",
    "with open (\"bps_merged.csv\", \"r\") as basepair:\n",
    "    parameters=basepair.readlines()\n",
    "for i in range(1,145):\n",
    "    shift=[]\n",
    "    slide=[]\n",
    "    rise=[]\n",
    "    tilt=[]\n",
    "    roll=[]\n",
    "    twist=[]\n",
    "    \n",
    "    \n",
    "    for j in range(1,len(parameters)):\n",
    "        if parameters[j].split(';')[0] == str(i):\n",
    "            step = parameters[i].split(';')[1]\n",
    "            shift.append(float(parameters[j].split(';')[2]))\n",
    "            slide.append(float(parameters[j].split(';')[3]))\n",
    "            rise.append(float(parameters[j].split(';')[4]))\n",
    "            tilt.append(float(parameters[j].split(';')[5]))\n",
    "            roll.append(float(parameters[j].split(';')[6]))\n",
    "            twist.append(float(parameters[j].split(';')[7]))\n",
    "   \n",
    "    with open (\"bps_max_min.csv\", \"a\") as max_min:\n",
    "        max_min.write(str(i) + ';' + step + ';' + str(max(shift)) + ';' + str(min(shift)) + ';' + str(mean(shift)) + ';')\n",
    "        max_min.write(str(max(slide)) + ';' + str(min(slide)) + ';' + str(mean(slide)) + ';')\n",
    "        max_min.write(str(max(rise)) + ';' + str(min(rise)) + ';' + str(mean(rise)) + ';')\n",
    "        max_min.write(str(max(tilt)) + ';' + str(min(tilt)) + ';' + str(mean(tilt)) + ';')\n",
    "        max_min.write(str(max(roll)) + ';' + str(min(roll)) + ';' + str(mean(roll)) + ';')\n",
    "        max_min.write(str(max(twist)) + ';' + str(min(twist)) + ';' + str(mean(twist)) + '\\n')\n",
    "               "
   ]
  },
  {
   "cell_type": "markdown",
   "metadata": {},
   "source": [
    "# Plot mean value and variance of base pair parameters"
   ]
  },
  {
   "cell_type": "code",
   "execution_count": null,
   "metadata": {},
   "outputs": [],
   "source": [
    "import seaborn as sns\n",
    "from matplotlib import pyplot as plt\n",
    "import pandas as pd\n",
    "import shutil\n",
    "import os\n",
    "import random\n",
    "import numpy as np\n",
    "import matplotlib.pyplot as plt\n",
    "import csv\n",
    "\n",
    "a=pd.read_csv(r\"bps_max_min.csv\", sep=\";\")\n",
    "b=pd.read_csv(r\"/Users/ezgi/Software/NucDNADynamics/application_example/3dna_out/xtal/3lz0_rot.csv\", sep=\";\") #xtal structure's base pair parameters\n",
    "\n",
    "c=pd.DataFrame(a)\n",
    "#Write the parameter you want to plot\n",
    "max_c=c['slide_max']\n",
    "min_c=c['slide_min']\n",
    "index_c=c['index']\n",
    "\n",
    "plt.figure(figsize=(5,3))\n",
    "\n",
    "sns.lineplot(x=\"index\", y=\"slide_max\", linewidth=1, color='#ffd59a', data=a) #max\n",
    "sns.lineplot(x=\"index\", y=\"slide_min\", linewidth=1, color='#ffd59a', data=a) #min\n",
    "sns.lineplot(x=\"index\", y=\"slide_mean\", linewidth=2.5,color='#ffa900', data=a) #mean\n",
    "sns.lineplot(x=\"index\", y=\"slide\", linewidth=1.2,color='#cd5c5c', data=b) #xtal\n",
    "plt.fill_between(index_c,max_c,min_c, color='#ffbe7bff',alpha='0.3')\n",
    "\n",
    "plt.xticks(fontsize=10, fontweight='bold')\n",
    "plt.yticks(fontsize=10, fontweight='bold')\n",
    "plt.xlim(xmax = 146, xmin = -1)\n",
    "plt.xlabel('Residue Index', fontsize=12, fontweight='bold')\n",
    "plt.ylabel('Slide', fontsize=12, fontweight='bold')\n",
    "plt.legend(fontsize=10, loc='lower center')\n",
    "plt.title(\"Slide\",fontsize=30, fontweight='bold')\n",
    "\n",
    "plt.savefig(\"slide.png\", dpi=600, bbox_inches = \"tight\",format=\"png\")\n",
    "plt.savefig(\"slide.pdf\", dpi=600, bbox_inches = \"tight\",format=\"pdf\")\n"
   ]
  },
  {
   "cell_type": "markdown",
   "metadata": {},
   "source": [
    "# Find maximum, minimum and mean values of groove widhts "
   ]
  },
  {
   "cell_type": "code",
   "execution_count": null,
   "metadata": {},
   "outputs": [],
   "source": [
    "import pandas as pd\n",
    "import shutil\n",
    "import os\n",
    "import random\n",
    "import csv\n",
    "from statistics import mean\n",
    "\n",
    "with open (\"gw_max_min.csv\", \"a\") as header:\n",
    "    header.write('index;minor_max;minor_min;minor_mean;major_max;major_min;major_mean\\n')\n",
    "\n",
    "    with open (\"gw_merged.csv\", \"r\") as groove:\n",
    "    parameters=groove.readlines()\n",
    "for i in range(3,143):\n",
    "    minor=[]\n",
    "    major=[]\n",
    "\n",
    "    for j in range(0,len(parameters)):\n",
    "        if parameters[j].split(';')[0] == str(i):\n",
    "            minor.append(float(parameters[j].split(';')[1]))\n",
    "            major.append(float(parameters[j].split(';')[2]))\n",
    "            \n",
    "    with open (\"gw_max_min.csv\", \"a\") as max_min:\n",
    "        max_min.write(str(i) + ';' + str(max(minor)) + ';' + str(min(minor)) + ';' + str(mean(minor)) + ';')\n",
    "        max_min.write(str(max(major)) + ';' + str(min(major)) + ';' + str(mean(major)) + '\\n')\n"
   ]
  },
  {
   "cell_type": "markdown",
   "metadata": {},
   "source": [
    "# Plot mean value and variance of base pair parameters"
   ]
  },
  {
   "cell_type": "code",
   "execution_count": null,
   "metadata": {},
   "outputs": [],
   "source": [
    "import seaborn as sns\n",
    "from matplotlib import pyplot as plt\n",
    "import pandas as pd\n",
    "import shutil\n",
    "import os\n",
    "import random\n",
    "import numpy as np\n",
    "import matplotlib.pyplot as plt\n",
    "import csv\n",
    "\n",
    "a=pd.read_csv(r\"gw_max_min.csv\", sep=\";\")\n",
    "b=pd.read_csv(r\"/Users/ezgi/Software/NucDNADynamics/application_example/3dna_out/xtal/3lz0.out_groove_width.csv\", sep=\";\") #xtal structure's base pair parameters\n",
    "\n",
    "c=pd.DataFrame(a)\n",
    "#Write the parameter you want to plot\n",
    "max_c=c['minor_max']\n",
    "min_c=c['minor_min']\n",
    "index_c=c['index']\n",
    "\n",
    "plt.figure(figsize=(5,3))\n",
    "\n",
    "sns.lineplot(x=\"index\", y=\"minor_max\", linewidth=1, color='#ffd59a', data=a) #max\n",
    "sns.lineplot(x=\"index\", y=\"minor_min\", linewidth=1, color='#ffd59a', data=a) #min\n",
    "sns.lineplot(x=\"index\", y=\"minor_mean\", label='Average Minor Groove', linewidth=2.5,color='#ffa900', data=a) #mean\n",
    "sns.lineplot(x=\"index\", y=\"minor\", label='Xtal Str.', linewidth=1.2,color='#cd5c5c', data=b) #xtal\n",
    "plt.fill_between(index_c,max_c,min_c, color='#ffbe7bff',alpha='0.3')\n",
    "\n",
    "plt.xticks(fontsize=10, fontweight='bold')\n",
    "plt.yticks(fontsize=10, fontweight='bold')\n",
    "plt.xlim(xmax = 146, xmin = -1)\n",
    "plt.xlabel('Residue Index', fontsize=12, fontweight='bold')\n",
    "plt.ylabel('Minor Groove Width', fontsize=12, fontweight='bold')\n",
    "plt.legend(fontsize=8, loc='lower center')\n",
    "plt.title(\"Minor Grooove\",fontsize=15, fontweight='bold')\n",
    "\n",
    "plt.savefig(\"minor_groove.png\", dpi=600, bbox_inches = \"tight\",format=\"png\")\n",
    "plt.savefig(\"minor_groove.pdf\", dpi=600, bbox_inches = \"tight\",format=\"pdf\")\n"
   ]
  }
 ],
 "metadata": {
  "kernelspec": {
   "display_name": "Python 3",
   "language": "python",
   "name": "python3"
  },
  "language_info": {
   "codemirror_mode": {
    "name": "ipython",
    "version": 3
   },
   "file_extension": ".py",
   "mimetype": "text/x-python",
   "name": "python",
   "nbconvert_exporter": "python",
   "pygments_lexer": "ipython3",
   "version": "3.6.4"
  }
 },
 "nbformat": 4,
 "nbformat_minor": 2
}
